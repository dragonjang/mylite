{
 "cells": [
  {
   "cell_type": "code",
   "execution_count": 3,
   "metadata": {},
   "outputs": [
    {
     "name": "stdout",
     "output_type": "stream",
     "text": [
      "Linear Regression의 MSE는 0.5559 입니다.\n",
      "Decision Tree Regression의 MSE는 0.4952 입니다.\n",
      "Random Forest Regression의 MSE는 0.2554 입니다.\n",
      "XGBoost Regression의 MSE는 0.2246 입니다.\n"
     ]
    }
   ],
   "source": [
    "\n",
    "import numpy as np\n",
    "import pandas as pd\n",
    "from sklearn.model_selection import train_test_split\n",
    "from sklearn.linear_model import LinearRegression\n",
    "from sklearn.tree import DecisionTreeRegressor\n",
    "from sklearn.ensemble import RandomForestRegressor\n",
    "from xgboost import XGBRegressor\n",
    "from sklearn.metrics import mean_squared_error\n",
    "from sklearn.datasets import fetch_california_housing\n",
    "\n",
    "# Load the California housing dataset\n",
    "data = fetch_california_housing(as_frame=True)\n",
    "\n",
    "df = pd.DataFrame(data=data.data, columns=data.feature_names)\n",
    "df['PRICE'] = data.target\n",
    "\n",
    "\n",
    "X = df.drop('PRICE', axis=1)\n",
    "y = df['PRICE']\n",
    "\n",
    "\n",
    "X_train, X_test, y_train, y_test = train_test_split(X, y, test_size=0.2, random_state=42)\n",
    "\n",
    "def get_mse(model):\n",
    "    model.fit(X_train, y_train)\n",
    "    y_pred = model.predict(X_test)\n",
    "    mse = mean_squared_error(y_test, y_pred)\n",
    "    return mse\n",
    "\n",
    "# 모델별 MSE 계산\n",
    "lr_mse = get_mse(LinearRegression())\n",
    "dt_mse = get_mse(DecisionTreeRegressor(random_state=42))\n",
    "rf_mse = get_mse(RandomForestRegressor(random_state=42))\n",
    "xgb_mse = get_mse(XGBRegressor(random_state=42, objective='reg:squarederror'))\n",
    "\n",
    "# 결과 출력\n",
    "print(f\"Linear Regression의 MSE는 {lr_mse:.4f} 입니다.\")\n",
    "print(f\"Decision Tree Regression의 MSE는 {dt_mse:.4f} 입니다.\")\n",
    "print(f\"Random Forest Regression의 MSE는 {rf_mse:.4f} 입니다.\")\n",
    "print(f\"XGBoost Regression의 MSE는 {xgb_mse:.4f} 입니다.\")\n"
   ]
  }
 ],
 "metadata": {
  "kernelspec": {
   "display_name": "base",
   "language": "python",
   "name": "python3"
  },
  "language_info": {
   "codemirror_mode": {
    "name": "ipython",
    "version": 3
   },
   "file_extension": ".py",
   "mimetype": "text/x-python",
   "name": "python",
   "nbconvert_exporter": "python",
   "pygments_lexer": "ipython3",
   "version": "3.9.13"
  },
  "orig_nbformat": 4
 },
 "nbformat": 4,
 "nbformat_minor": 2
}
